{
 "cells": [
  {
   "cell_type": "code",
   "execution_count": null,
   "id": "cf4697a6",
   "metadata": {},
   "outputs": [],
   "source": [
    "# Weather API Key\n",
    "weather_api_key = \"5590113fe673b7cff125e33fc843e5a4\"\n",
    "\n",
    "#Geoapify API Key\n",
    "geoapify_api_key = \"45368228245c4032b876af75dcd9cb2a\""
   ]
  }
 ],
 "metadata": {
  "kernelspec": {
   "display_name": "PythonData",
   "language": "python",
   "name": "pythondata"
  },
  "language_info": {
   "codemirror_mode": {
    "name": "ipython",
    "version": 3
   },
   "file_extension": ".py",
   "mimetype": "text/x-python",
   "name": "python",
   "nbconvert_exporter": "python",
   "pygments_lexer": "ipython3",
   "version": "3.9.13"
  }
 },
 "nbformat": 4,
 "nbformat_minor": 5
}
